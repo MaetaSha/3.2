{
 "cells": [
  {
   "cell_type": "code",
   "execution_count": 1,
   "id": "404a486d",
   "metadata": {},
   "outputs": [
    {
     "name": "stderr",
     "output_type": "stream",
     "text": [
      "C:\\Users\\USER\\AppData\\Local\\Temp\\ipykernel_15048\\2781403280.py:24: WavFileWarning: Chunk (non-data) not understood, skipping it.\n",
      "  sampling_frequency, speech_signal = wavfile.read('harvard.wav')\n"
     ]
    },
    {
     "name": "stdout",
     "output_type": "stream",
     "text": [
      "Zero Crossing Rate (ZCR) using different window functions:\n",
      "hamming window function: 0.26\n",
      "hanning window function: 0.26\n",
      "blackman window function: 0.26\n"
     ]
    }
   ],
   "source": [
    "import numpy as np\n",
    "import scipy.io.wavfile as wavfile\n",
    "from scipy.signal import get_window\n",
    "\n",
    "def zerocrossingrate(signal, window, overlap):\n",
    "    frame_length = len(window)\n",
    "    step_size = frame_length - overlap\n",
    "    num_frames = int(np.floor((len(signal) - overlap) / step_size))\n",
    "    padded_signal_length = frame_length + (num_frames - 1) * step_size + overlap  # Adjusted calculation\n",
    "    padded_signal = np.pad(signal, (0, padded_signal_length - len(signal)), 'constant')\n",
    "    zcr = np.zeros(num_frames)\n",
    "\n",
    "    for i in range(num_frames):\n",
    "        start_index = i * step_size\n",
    "        end_index = start_index + frame_length\n",
    "        frame = padded_signal[start_index:end_index]\n",
    "        zcr[i] = np.sum(np.abs(np.diff(frame > 0))) / (2 * frame_length)\n",
    "\n",
    "    avg_zcr = np.mean(zcr)\n",
    "    return avg_zcr\n",
    "\n",
    "\n",
    "# Load the speech signal\n",
    "sampling_frequency, speech_signal = wavfile.read('harvard.wav')\n",
    "\n",
    "# Define window size and overlap\n",
    "window_size = int(0.02 * sampling_frequency)  # 20 ms window size\n",
    "overlap = int(0.5 * window_size)  # 50% overlap\n",
    "\n",
    "# Compute the zero crossing rate (ZCR) using different window functions\n",
    "window_functions = [np.hamming, np.hanning, np.blackman]\n",
    "num_window_functions = len(window_functions)\n",
    "zcr_values = np.zeros(num_window_functions)\n",
    "\n",
    "# Compute ZCR for each window function\n",
    "for i, window_func in enumerate(window_functions):\n",
    "    # Apply the current window function\n",
    "    window = window_func(window_size)\n",
    "\n",
    "    # Compute the ZCR for the entire signal using the current window function\n",
    "    zcr_values[i] = zerocrossingrate(speech_signal, window, overlap)\n",
    "\n",
    "# Display ZCR values\n",
    "print('Zero Crossing Rate (ZCR) using different window functions:')\n",
    "for i, window_func in enumerate(window_functions):\n",
    "    print(f'{window_func.__name__} window function: {zcr_values[i]:.2f}')\n",
    "\n",
    "\n",
    "\n"
   ]
  },
  {
   "cell_type": "code",
   "execution_count": null,
   "id": "626aaf99",
   "metadata": {},
   "outputs": [],
   "source": []
  }
 ],
 "metadata": {
  "kernelspec": {
   "display_name": "Python 3 (ipykernel)",
   "language": "python",
   "name": "python3"
  },
  "language_info": {
   "codemirror_mode": {
    "name": "ipython",
    "version": 3
   },
   "file_extension": ".py",
   "mimetype": "text/x-python",
   "name": "python",
   "nbconvert_exporter": "python",
   "pygments_lexer": "ipython3",
   "version": "3.11.5"
  }
 },
 "nbformat": 4,
 "nbformat_minor": 5
}
